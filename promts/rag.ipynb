{
  "cells": [
    {
      "cell_type": "code",
      "execution_count": 9,
      "metadata": {
        "id": "Pd75gocPFZ8W"
      },
      "outputs": [],
      "source": [
        "import os\n",
        "import re\n",
        "import zipfile\n",
        "from langchain_groq import ChatGroq\n",
        "from langchain import PromptTemplate\n",
        "from langchain_core.rate_limiters import InMemoryRateLimiter\n",
        "from langchain.embeddings import HuggingFaceEmbeddings\n",
        "from langchain.vectorstores import FAISS\n",
        "from langchain_community.document_loaders import DirectoryLoader\n",
        "from langchain_text_splitters import RecursiveCharacterTextSplitter\n",
        "from langchain_experimental.text_splitter import SemanticChunker\n",
        "from langchain.retrievers import ContextualCompressionRetriever\n",
        "from langchain.retrievers.document_compressors import EmbeddingsFilter, LLMChainExtractor, LLMChainFilter\n",
        "from langchain.chains import create_retrieval_chain\n",
        "from langchain_community.document_loaders.csv_loader import CSVLoader\n",
        "from tqdm import tqdm\n",
        "import pandas as pd\n",
        "import logging\n",
        "logger = logging.getLogger()"
      ]
    },
    {
      "cell_type": "code",
      "execution_count": 3,
      "metadata": {
        "id": "LmFrK90UFhhv"
      },
      "outputs": [],
      "source": [
        "data_path = \"./pc-part-dataset/data/\"\n",
        "# dataset_path = os.path.join(folder_path, \"dataset.zip\")\n",
        "# test_data_path = os.path.join(folder_path, \"LR2_dev.csv\")\n",
        "# test_answers_path = os.path.join(folder_path, \"LR2_dev_answer.csv\")\n",
        "# eval_data_path = os.path.join(folder_path, \"LR2.csv\")"
      ]
    },
    {
      "cell_type": "code",
      "execution_count": 4,
      "metadata": {
        "id": "f3OBFFXdjKgR"
      },
      "outputs": [
        {
          "name": "stderr",
          "output_type": "stream",
          "text": [
            "/var/folders/1w/zvs_tqsn6gd7ls8fcvqf0n340000gn/T/ipykernel_80365/801422192.py:2: LangChainDeprecationWarning: The class `HuggingFaceEmbeddings` was deprecated in LangChain 0.2.2 and will be removed in 1.0. An updated version of the class exists in the :class:`~langchain-huggingface package and should be used instead. To use it run `pip install -U :class:`~langchain-huggingface` and import as `from :class:`~langchain_huggingface import HuggingFaceEmbeddings``.\n",
            "  emb_model1 = HuggingFaceEmbeddings(\n",
            "/Library/Frameworks/Python.framework/Versions/3.13/lib/python3.13/site-packages/tqdm/auto.py:21: TqdmWarning: IProgress not found. Please update jupyter and ipywidgets. See https://ipywidgets.readthedocs.io/en/stable/user_install.html\n",
            "  from .autonotebook import tqdm as notebook_tqdm\n"
          ]
        }
      ],
      "source": [
        "# emb_model1 = HuggingFaceEmbeddings(model_name=\"sentence-transformers/paraphrase-multilingual-MiniLM-L12-v2\", model_kwargs = {'device': 'mps'})\n",
        "emb_model1 = HuggingFaceEmbeddings(\n",
        "    model_name=\"cointegrated/LaBSE-en-ru\", # Более качественные русско-английские эмбеддинги\n",
        "    model_kwargs={'device': 'mps'},\n",
        "    encode_kwargs={'normalize_embeddings': True} # Важно для LaBSE\n",
        ")"
      ]
    },
    {
      "cell_type": "markdown",
      "metadata": {},
      "source": [
        "# Генерация векторной базы"
      ]
    },
    {
      "cell_type": "code",
      "execution_count": 5,
      "metadata": {},
      "outputs": [],
      "source": [
        "# os.environ[\"GROQ_API_KEY\"] = \"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\" # main\n",
        "os.environ[\"GROQ_API_KEY\"] = \"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\" # second\n",
        "\n",
        "rate_limiter = InMemoryRateLimiter(\n",
        "    requests_per_second=0.5,  # Controls requests per second\n",
        "    check_every_n_seconds=0.8,  # How often to check rate limit\n",
        "    max_bucket_size=5  # Maximum burst size allowed\n",
        ")\n",
        "\n",
        "\n",
        "llm = ChatGroq(model=\"llama3-70b-8192\", rate_limiter=rate_limiter, temperature=0.6)"
      ]
    },
    {
      "cell_type": "code",
      "execution_count": null,
      "metadata": {},
      "outputs": [],
      "source": []
    },
    {
      "cell_type": "code",
      "execution_count": 6,
      "metadata": {},
      "outputs": [],
      "source": [
        "# from langchain_community.agent_toolkits import SQLDatabaseToolkit\n",
        "# from langchain_community.utilities import SQLDatabase\n",
        "\n",
        "# db = SQLDatabase.from_uri(PG_DSN)\n",
        "# toolkit = SQLDatabaseToolkit(db=db, llm=llm)\n",
        "\n",
        "# tools = toolkit.get_tools()\n",
        "\n",
        "# tools"
      ]
    },
    {
      "cell_type": "code",
      "execution_count": 10,
      "metadata": {},
      "outputs": [],
      "source": [
        "# from langchain import hub\n",
        "\n",
        "# prompt_template = hub.pull(\"langchain-ai/sql-agent-system-prompt\")\n",
        "\n",
        "# assert len(prompt_template.messages) == 1\n",
        "# prompt_template.messages[0].pretty_print()"
      ]
    },
    {
      "cell_type": "code",
      "execution_count": null,
      "metadata": {},
      "outputs": [],
      "source": [
        "# system_message = prompt_template.format(dialect=\"Postres\", top_k=5)"
      ]
    },
    {
      "cell_type": "code",
      "execution_count": null,
      "metadata": {},
      "outputs": [],
      "source": [
        "# from langchain_core.messages import HumanMessage\n",
        "# from langgraph.prebuilt import create_react_agent\n",
        "\n",
        "# agent_executor = create_react_agent(llm, tools, prompt=system_message)"
      ]
    },
    {
      "cell_type": "code",
      "execution_count": null,
      "metadata": {},
      "outputs": [
        {
          "data": {
            "text/plain": [
              "\"Here are the key characteristics of a powerful and high-performance GPU:\\n\\n1. **High Clock Speed**: A high clock speed, measured in GHz, indicates how fast the GPU can perform calculations. A higher clock speed generally results in better performance.\\n2. **Number of CUDA Cores/Stream Processors**: More CUDA cores/stream processors mean the GPU can handle more complex calculations and process more data simultaneously, leading to better performance.\\n3. **Memory Bandwidth**: Higher memory bandwidth, measured in GB/s, allows the GPU to access and process more data quickly, resulting in better performance.\\n4. **Memory Size and Type**: A larger and faster memory (e.g., GDDR6 or HBM2) can store more data and provide faster access, leading to better performance.\\n5. **Memory Interface Width**: A wider memory interface width (e.g., 384-bit or 512-bit) allows for more data to be transferred simultaneously, resulting in better performance.\\n6. **Pixel Fill Rate**: A higher pixel fill rate, measured in gigapixels per second, indicates how quickly the GPU can render pixels, leading to smoother graphics and better performance.\\n7. **Texture Mapping Units (TMUs)**: More TMUs allow the GPU to handle more complex textures and shading, resulting in better graphics quality and performance.\\n8. **Render Outputs (ROPs)**: More ROPs enable the GPU to render more pixels and handle more complex graphics, leading to better performance.\\n9. **PCIe Version**: A newer PCIe version (e.g., PCIe 4.0) provides faster data transfer rates between the GPU and system, resulting in better performance.\\n10. **Power Consumption**: A higher power consumption, measured in watts, can indicate a more powerful GPU, but also increases heat generation and power draw.\\n11. **Cooling System**: An efficient cooling system, such as a hybrid or liquid cooling system, helps to keep the GPU at a safe temperature, ensuring stable performance and longevity.\\n12. **DirectX and Vulkan Support**: Support for the latest DirectX and Vulkan APIs ensures compatibility with modern games and applications, taking advantage of the GPU's features and performance.\\n13. **Multi-GPU Support**: Support for multi-GPU configurations, such as SLI or Crossfire, allows for increased performance and scalability in compatible systems.\\n14. **Artificial Intelligence (AI) and Machine Learning (ML) Acceleration**: Integration of AI and ML acceleration, such as Tensor Cores or Stream processors, enables faster processing of AI and ML workloads.\\n15. **Ray Tracing and AI-Enhanced Graphics**: Support for real-time ray tracing and AI-enhanced graphics, such as NVIDIA's RTX or AMD's Radeon RDNA 2, enables more realistic and detailed graphics rendering.\\n16. **Display Outputs and Resolution**: Multiple display outputs and support for high resolutions (e.g., 4K or 8K) enable more flexible and high-quality display configurations.\\n17. **HDMI and DisplayPort Versions**: Support for the latest HDMI and DisplayPort versions ensures compatibility with modern displays and enables features like variable refresh rate and HDR.\\n18. **Graphics Processing Unit (GPU) Architecture**: A modern and efficient GPU architecture, such as NVIDIA's Ampere or AMD's RDNA 2, enables better performance, power efficiency, and feature support.\\n\\nWhen evaluating a GPU, consider your specific needs and priorities. For gaming, focus on clock speed, memory bandwidth, and pixel fill rate. For professional applications like video editing or 3D modeling, consider memory size, memory bandwidth, and CUDA core/stream processor count.\""
            ]
          },
          "execution_count": 35,
          "metadata": {},
          "output_type": "execute_result"
        }
      ],
      "source": [
        "# llm.invoke(\"Key characteristics of best and powerful gpu\").content"
      ]
    },
    {
      "cell_type": "code",
      "execution_count": 11,
      "metadata": {},
      "outputs": [],
      "source": [
        "# question = \"(Table video-card) Best and powerful 5 gpus under 500$ (Here are the key characteristics of a powerful and high-performance GPU:\\n\\n1. **High Clock Speed**: A high clock speed, measured in GHz, indicates how fast the GPU can perform calculations. A higher clock speed generally results in better performance.\\n2. **Number of CUDA Cores/Stream Processors**: More CUDA cores/stream processors mean the GPU can handle more complex calculations and process more data simultaneously, leading to better performance.\\n3. **Memory Bandwidth**: Higher memory bandwidth, measured in GB/s, allows the GPU to access and process more data quickly, resulting in better performance.\\n4. **Memory Size and Type**: A larger and faster memory (e.g., GDDR6 or HBM2) can store more data and provide faster access, leading to better performance.\\n5. **Memory Interface Width**: A wider memory interface width (e.g., 384-bit or 512-bit) allows for more data to be transferred simultaneously, resulting in better performance.\\n6. **Pixel Fill Rate**: A higher pixel fill rate, measured in gigapixels per second, indicates how quickly the GPU can render pixels, leading to smoother graphics and better performance.\\n7. **Texture Mapping Units (TMUs)**: More TMUs allow the GPU to handle more complex textures and shading, resulting in better graphics quality and performance.\\n8. **Render Outputs (ROPs)**: More ROPs enable the GPU to render more pixels and handle more complex graphics, leading to better performance.\\n9. **PCIe Version**: A newer PCIe version (e.g., PCIe 4.0) provides faster data transfer rates between the GPU and system, resulting in better performance.\\n10. **Power Consumption**: A higher power consumption, measured in watts, can indicate a more powerful GPU, but also increases heat generation and power draw.\\n11. **Cooling System**: An efficient cooling system, such as a hybrid or liquid cooling system, helps to keep the GPU at a safe temperature, ensuring stable performance and longevity.\\n12. **DirectX and Vulkan Support**: Support for the latest DirectX and Vulkan APIs ensures compatibility with modern games and applications, taking advantage of the GPU's features and performance.\\n13. **Multi-GPU Support**: Support for multi-GPU configurations, such as SLI or Crossfire, allows for increased performance and scalability in compatible systems.\\n14. **Artificial Intelligence (AI) and Machine Learning (ML) Acceleration**: Integration of AI and ML acceleration, such as Tensor Cores or Stream processors, enables faster processing of AI and ML workloads.\\n15. **Ray Tracing and AI-Enhanced Graphics**: Support for real-time ray tracing and AI-enhanced graphics, such as NVIDIA's RTX or AMD's Radeon RDNA 2, enables more realistic and detailed graphics rendering.\\n16. **Display Outputs and Resolution**: Multiple display outputs and support for high resolutions (e.g., 4K or 8K) enable more flexible and high-quality display configurations.\\n17. **HDMI and DisplayPort Versions**: Support for the latest HDMI and DisplayPort versions ensures compatibility with modern displays and enables features like variable refresh rate and HDR.\\n18. **Graphics Processing Unit (GPU) Architecture**: A modern and efficient GPU architecture, such as NVIDIA's Ampere or AMD's RDNA 2, enables better performance, power efficiency, and feature support.\\n\\nWhen evaluating a GPU, consider your specific needs and priorities. For gaming, focus on clock speed, memory bandwidth, and pixel fill rate. For professional applications like video editing or 3D modeling, consider memory size, memory bandwidth, and CUDA core/stream processor count)\"\n",
        "\n",
        "# question = \"Best and powerful gpus under 40000 RUB\"\n",
        "\n",
        "# for step in agent_executor.stream(\n",
        "#     {\"messages\": [{\"role\": \"user\", \"content\": question}]},\n",
        "#     stream_mode=\"values\",\n",
        "# ):\n",
        "#     step[\"messages\"][-1].pretty_print()"
      ]
    },
    {
      "cell_type": "markdown",
      "metadata": {},
      "source": [
        "# Остальное"
      ]
    },
    {
      "cell_type": "code",
      "execution_count": 12,
      "metadata": {},
      "outputs": [],
      "source": [
        "folder_path = './pc-part-dataset/data/csv'\n",
        "tables = [\"case-fan.csv\", \"case.csv\", \"cpu-cooler.csv\", \"cpu.csv\", \"internal-hard-drive.csv\", \"memory.csv\", \"motherboard.csv\", \"power-supply.csv\", \"video-card.csv\"]\n",
        "tables_names = [\"case_fan\", \"case\", \"cpu-cooler\", \"cpu\", \"drive\", \"memory\", \"motherboard\", \"power-supply\", \"gpu\"]"
      ]
    },
    {
      "cell_type": "code",
      "execution_count": 13,
      "metadata": {},
      "outputs": [],
      "source": [
        "data = []\n",
        "for filename in tables:\n",
        "    loader = CSVLoader(os.path.join(folder_path, filename))\n",
        "    data.extend(loader.load())"
      ]
    },
    {
      "cell_type": "code",
      "execution_count": 10,
      "metadata": {},
      "outputs": [],
      "source": [
        "splitter = RecursiveCharacterTextSplitter(\n",
        "    chunk_size=512,\n",
        "    chunk_overlap=128,\n",
        "    separators=[\"\\n\\n\", \"\\n\", r\"(?<=\\. )\", \" \", \"\"],\n",
        "    length_function=len,\n",
        "    is_separator_regex=True,\n",
        ")"
      ]
    },
    {
      "cell_type": "code",
      "execution_count": 11,
      "metadata": {},
      "outputs": [
        {
          "ename": "NameError",
          "evalue": "name 'file_to_book' is not defined",
          "output_type": "error",
          "traceback": [
            "\u001b[0;31m---------------------------------------------------------------------------\u001b[0m",
            "\u001b[0;31mNameError\u001b[0m                                 Traceback (most recent call last)",
            "Cell \u001b[0;32mIn[11], line 2\u001b[0m\n\u001b[1;32m      1\u001b[0m retrv \u001b[38;5;241m=\u001b[39m {}\n\u001b[0;32m----> 2\u001b[0m \u001b[38;5;28;01mfor\u001b[39;00m k \u001b[38;5;129;01min\u001b[39;00m \u001b[43mfile_to_book\u001b[49m\u001b[38;5;241m.\u001b[39mvalues():\n\u001b[1;32m      3\u001b[0m     retrv[k] \u001b[38;5;241m=\u001b[39m \u001b[38;5;124m\"\u001b[39m\u001b[38;5;124m\"\u001b[39m\n",
            "\u001b[0;31mNameError\u001b[0m: name 'file_to_book' is not defined"
          ]
        }
      ],
      "source": [
        "retrv = {}\n",
        "for k in file_to_book.values():\n",
        "    retrv[k] = \"\""
      ]
    },
    {
      "cell_type": "code",
      "execution_count": null,
      "metadata": {},
      "outputs": [],
      "source": [
        "for doc in docs:\n",
        "    if doc.metadata[\"source\"].split(\"/\")[-1] not in file_to_book.keys():\n",
        "        continue\n",
        "    data = doc.page_content\n",
        "    split_data = splitter.create_documents([data])\n",
        "    db = FAISS.from_documents(split_data, emb_model1)\n",
        "    retrv[file_to_book[doc.metadata[\"source\"].split(\"/\")[-1]]] = db"
      ]
    },
    {
      "cell_type": "code",
      "execution_count": null,
      "metadata": {},
      "outputs": [],
      "source": [
        "retrievers = {}\n",
        "for k, v in retrv.items():\n",
        "    retrievers[k] = v.as_retriever(\n",
        "    search_type=\"mmr\",  # Maximum Marginal Relevance search\n",
        "    # search_type=\"similarity\",\n",
        "    search_kwargs={\n",
        "        'k': 5,  # Number of documents to retrieve\n",
        "        'fetch_k': 15,  # Total documents to consider\n",
        "        'lambda_mult': 0.5  # Balance between diversity and relevance\n",
        "    }\n",
        ")"
      ]
    }
  ],
  "metadata": {
    "accelerator": "GPU",
    "colab": {
      "gpuType": "T4",
      "provenance": []
    },
    "kernelspec": {
      "display_name": "Python 3",
      "name": "python3"
    },
    "language_info": {
      "codemirror_mode": {
        "name": "ipython",
        "version": 3
      },
      "file_extension": ".py",
      "mimetype": "text/x-python",
      "name": "python",
      "nbconvert_exporter": "python",
      "pygments_lexer": "ipython3",
      "version": "3.13.2"
    }
  },
  "nbformat": 4,
  "nbformat_minor": 0
}
